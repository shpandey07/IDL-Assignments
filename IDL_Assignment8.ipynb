{
  "nbformat": 4,
  "nbformat_minor": 0,
  "metadata": {
    "colab": {
      "name": "IDL_Assignment8.ipynb",
      "provenance": []
    },
    "kernelspec": {
      "name": "python3",
      "display_name": "Python 3"
    }
  },
  "cells": [
    {
      "cell_type": "markdown",
      "metadata": {
        "id": "0b6By5nlyqZ7",
        "colab_type": "text"
      },
      "source": [
        "GROUP MEMBERS:\n",
        "\n",
        "Asad Karim -- 226063\n",
        "\n",
        "Shweta Pandey -- 225964"
      ]
    },
    {
      "cell_type": "code",
      "metadata": {
        "id": "A5dutFMb0OyS",
        "colab_type": "code",
        "colab": {}
      },
      "source": [
        "import tensorflow as tf\n",
        "import numpy as np"
      ],
      "execution_count": 0,
      "outputs": []
    },
    {
      "cell_type": "code",
      "metadata": {
        "id": "dZAThVPd0oJy",
        "colab_type": "code",
        "colab": {
          "base_uri": "https://localhost:8080/",
          "height": 151
        },
        "outputId": "1aee9640-3135-4e04-b0b9-c5d5411942e6"
      },
      "source": [
        "from keras.datasets import fashion_mnist\n",
        "\n",
        "(x_train, _), (x_test, _) = fashion_mnist.load_data()"
      ],
      "execution_count": 7,
      "outputs": [
        {
          "output_type": "stream",
          "text": [
            "Downloading data from http://fashion-mnist.s3-website.eu-central-1.amazonaws.com/train-labels-idx1-ubyte.gz\n",
            "32768/29515 [=================================] - 0s 3us/step\n",
            "Downloading data from http://fashion-mnist.s3-website.eu-central-1.amazonaws.com/train-images-idx3-ubyte.gz\n",
            "26427392/26421880 [==============================] - 2s 0us/step\n",
            "Downloading data from http://fashion-mnist.s3-website.eu-central-1.amazonaws.com/t10k-labels-idx1-ubyte.gz\n",
            "8192/5148 [===============================================] - 0s 0us/step\n",
            "Downloading data from http://fashion-mnist.s3-website.eu-central-1.amazonaws.com/t10k-images-idx3-ubyte.gz\n",
            "4423680/4422102 [==============================] - 1s 0us/step\n"
          ],
          "name": "stdout"
        }
      ]
    },
    {
      "cell_type": "code",
      "metadata": {
        "id": "cRKEQLji03z1",
        "colab_type": "code",
        "colab": {
          "base_uri": "https://localhost:8080/",
          "height": 50
        },
        "outputId": "9af26fa2-6b19-4e3e-a6d3-88246e72e87e"
      },
      "source": [
        "x_train = x_train.astype('float32') / 255.\n",
        "x_test = x_test.astype('float32') / 255.\n",
        "x_train = x_train.reshape((len(x_train), np.prod(x_train.shape[1:])))\n",
        "x_test = x_test.reshape((len(x_test), np.prod(x_test.shape[1:])))\n",
        "print(x_train.shape)\n",
        "print(x_test.shape)"
      ],
      "execution_count": 8,
      "outputs": [
        {
          "output_type": "stream",
          "text": [
            "(60000, 784)\n",
            "(10000, 784)\n"
          ],
          "name": "stdout"
        }
      ]
    },
    {
      "cell_type": "code",
      "metadata": {
        "id": "PWzaMOteyL09",
        "colab_type": "code",
        "colab": {}
      },
      "source": [
        "from keras.layers import Input, Dense\n",
        "from keras.models import Model\n",
        "\n",
        "\n",
        "encoding_dim = 32\n",
        "input_img = Input(shape=(784,))\n",
        "encoded = Dense(encoding_dim, activation='relu')(input_img)\n",
        "decoded = Dense(784, activation='sigmoid')(encoded)\n",
        "autoencoder = Model(input_img, decoded)"
      ],
      "execution_count": 0,
      "outputs": []
    },
    {
      "cell_type": "code",
      "metadata": {
        "id": "BMq8mrHr0Ksf",
        "colab_type": "code",
        "colab": {}
      },
      "source": [
        "encoder = Model(input_img, encoded)"
      ],
      "execution_count": 0,
      "outputs": []
    },
    {
      "cell_type": "code",
      "metadata": {
        "id": "Xr-8JcRg0cAo",
        "colab_type": "code",
        "colab": {}
      },
      "source": [
        "encoded_input = Input(shape=(encoding_dim,))\n",
        "decoder_layer = autoencoder.layers[-1]\n",
        "decoder = Model(encoded_input, decoder_layer(encoded_input))"
      ],
      "execution_count": 0,
      "outputs": []
    },
    {
      "cell_type": "code",
      "metadata": {
        "id": "CkUdk1ER0hba",
        "colab_type": "code",
        "colab": {}
      },
      "source": [
        "autoencoder.compile(optimizer='adam', loss='binary_crossentropy')"
      ],
      "execution_count": 0,
      "outputs": []
    },
    {
      "cell_type": "code",
      "metadata": {
        "id": "j_q1jH-G1C47",
        "colab_type": "code",
        "colab": {
          "base_uri": "https://localhost:8080/",
          "height": 1000
        },
        "outputId": "a5bc22bf-ec8a-40c9-cd03-e202e25f514e"
      },
      "source": [
        "autoencoder.fit(x_train, x_train,\n",
        "                epochs=50,\n",
        "                batch_size=256,\n",
        "                shuffle=True,\n",
        "                validation_data=(x_test, x_test))"
      ],
      "execution_count": 9,
      "outputs": [
        {
          "output_type": "stream",
          "text": [
            "Train on 60000 samples, validate on 10000 samples\n",
            "Epoch 1/50\n",
            "60000/60000 [==============================] - 3s 46us/step - loss: 0.5268 - val_loss: 0.4577\n",
            "Epoch 2/50\n",
            "60000/60000 [==============================] - 2s 41us/step - loss: 0.4260 - val_loss: 0.4066\n",
            "Epoch 3/50\n",
            "60000/60000 [==============================] - 2s 41us/step - loss: 0.3957 - val_loss: 0.3880\n",
            "Epoch 4/50\n",
            "60000/60000 [==============================] - 2s 41us/step - loss: 0.3781 - val_loss: 0.3718\n",
            "Epoch 5/50\n",
            "60000/60000 [==============================] - 2s 41us/step - loss: 0.3635 - val_loss: 0.3590\n",
            "Epoch 6/50\n",
            "60000/60000 [==============================] - 2s 41us/step - loss: 0.3521 - val_loss: 0.3491\n",
            "Epoch 7/50\n",
            "60000/60000 [==============================] - 2s 41us/step - loss: 0.3433 - val_loss: 0.3415\n",
            "Epoch 8/50\n",
            "60000/60000 [==============================] - 2s 41us/step - loss: 0.3366 - val_loss: 0.3356\n",
            "Epoch 9/50\n",
            "60000/60000 [==============================] - 2s 41us/step - loss: 0.3314 - val_loss: 0.3311\n",
            "Epoch 10/50\n",
            "60000/60000 [==============================] - 2s 41us/step - loss: 0.3272 - val_loss: 0.3274\n",
            "Epoch 11/50\n",
            "60000/60000 [==============================] - 2s 40us/step - loss: 0.3239 - val_loss: 0.3244\n",
            "Epoch 12/50\n",
            "60000/60000 [==============================] - 2s 41us/step - loss: 0.3211 - val_loss: 0.3218\n",
            "Epoch 13/50\n",
            "60000/60000 [==============================] - 2s 41us/step - loss: 0.3186 - val_loss: 0.3195\n",
            "Epoch 14/50\n",
            "60000/60000 [==============================] - 2s 41us/step - loss: 0.3165 - val_loss: 0.3176\n",
            "Epoch 15/50\n",
            "60000/60000 [==============================] - 2s 40us/step - loss: 0.3146 - val_loss: 0.3159\n",
            "Epoch 16/50\n",
            "60000/60000 [==============================] - 2s 41us/step - loss: 0.3130 - val_loss: 0.3143\n",
            "Epoch 17/50\n",
            "60000/60000 [==============================] - 2s 41us/step - loss: 0.3116 - val_loss: 0.3130\n",
            "Epoch 18/50\n",
            "60000/60000 [==============================] - 2s 41us/step - loss: 0.3104 - val_loss: 0.3119\n",
            "Epoch 19/50\n",
            "60000/60000 [==============================] - 2s 41us/step - loss: 0.3093 - val_loss: 0.3108\n",
            "Epoch 20/50\n",
            "60000/60000 [==============================] - 2s 40us/step - loss: 0.3083 - val_loss: 0.3100\n",
            "Epoch 21/50\n",
            "60000/60000 [==============================] - 3s 42us/step - loss: 0.3075 - val_loss: 0.3091\n",
            "Epoch 22/50\n",
            "60000/60000 [==============================] - 2s 42us/step - loss: 0.3067 - val_loss: 0.3083\n",
            "Epoch 23/50\n",
            "60000/60000 [==============================] - 2s 41us/step - loss: 0.3059 - val_loss: 0.3076\n",
            "Epoch 24/50\n",
            "60000/60000 [==============================] - 3s 42us/step - loss: 0.3052 - val_loss: 0.3071\n",
            "Epoch 25/50\n",
            "60000/60000 [==============================] - 3s 42us/step - loss: 0.3046 - val_loss: 0.3064\n",
            "Epoch 26/50\n",
            "60000/60000 [==============================] - 2s 41us/step - loss: 0.3040 - val_loss: 0.3058\n",
            "Epoch 27/50\n",
            "60000/60000 [==============================] - 2s 41us/step - loss: 0.3035 - val_loss: 0.3053\n",
            "Epoch 28/50\n",
            "60000/60000 [==============================] - 3s 42us/step - loss: 0.3030 - val_loss: 0.3048\n",
            "Epoch 29/50\n",
            "60000/60000 [==============================] - 3s 43us/step - loss: 0.3025 - val_loss: 0.3043\n",
            "Epoch 30/50\n",
            "60000/60000 [==============================] - 3s 44us/step - loss: 0.3020 - val_loss: 0.3039\n",
            "Epoch 31/50\n",
            "60000/60000 [==============================] - 3s 44us/step - loss: 0.3016 - val_loss: 0.3034\n",
            "Epoch 32/50\n",
            "60000/60000 [==============================] - 3s 44us/step - loss: 0.3012 - val_loss: 0.3030\n",
            "Epoch 33/50\n",
            "60000/60000 [==============================] - 3s 44us/step - loss: 0.3008 - val_loss: 0.3026\n",
            "Epoch 34/50\n",
            "60000/60000 [==============================] - 3s 44us/step - loss: 0.3004 - val_loss: 0.3023\n",
            "Epoch 35/50\n",
            "60000/60000 [==============================] - 3s 44us/step - loss: 0.3000 - val_loss: 0.3019\n",
            "Epoch 36/50\n",
            "60000/60000 [==============================] - 3s 44us/step - loss: 0.2996 - val_loss: 0.3015\n",
            "Epoch 37/50\n",
            "60000/60000 [==============================] - 3s 45us/step - loss: 0.2993 - val_loss: 0.3012\n",
            "Epoch 38/50\n",
            "60000/60000 [==============================] - 3s 44us/step - loss: 0.2989 - val_loss: 0.3008\n",
            "Epoch 39/50\n",
            "60000/60000 [==============================] - 3s 43us/step - loss: 0.2986 - val_loss: 0.3005\n",
            "Epoch 40/50\n",
            "60000/60000 [==============================] - 3s 43us/step - loss: 0.2982 - val_loss: 0.3001\n",
            "Epoch 41/50\n",
            "60000/60000 [==============================] - 3s 43us/step - loss: 0.2979 - val_loss: 0.2998\n",
            "Epoch 42/50\n",
            "60000/60000 [==============================] - 3s 44us/step - loss: 0.2976 - val_loss: 0.2995\n",
            "Epoch 43/50\n",
            "60000/60000 [==============================] - 3s 44us/step - loss: 0.2973 - val_loss: 0.2992\n",
            "Epoch 44/50\n",
            "60000/60000 [==============================] - 3s 43us/step - loss: 0.2970 - val_loss: 0.2989\n",
            "Epoch 45/50\n",
            "60000/60000 [==============================] - 3s 43us/step - loss: 0.2967 - val_loss: 0.2986\n",
            "Epoch 46/50\n",
            "60000/60000 [==============================] - 3s 42us/step - loss: 0.2964 - val_loss: 0.2983\n",
            "Epoch 47/50\n",
            "60000/60000 [==============================] - 3s 42us/step - loss: 0.2961 - val_loss: 0.2980\n",
            "Epoch 48/50\n",
            "60000/60000 [==============================] - 3s 42us/step - loss: 0.2958 - val_loss: 0.2978\n",
            "Epoch 49/50\n",
            "60000/60000 [==============================] - 3s 43us/step - loss: 0.2955 - val_loss: 0.2975\n",
            "Epoch 50/50\n",
            "60000/60000 [==============================] - 3s 44us/step - loss: 0.2953 - val_loss: 0.2972\n"
          ],
          "name": "stdout"
        },
        {
          "output_type": "execute_result",
          "data": {
            "text/plain": [
              "<keras.callbacks.callbacks.History at 0x7ff8250a8518>"
            ]
          },
          "metadata": {
            "tags": []
          },
          "execution_count": 9
        }
      ]
    },
    {
      "cell_type": "code",
      "metadata": {
        "id": "tTx7E5DR13dh",
        "colab_type": "code",
        "colab": {}
      },
      "source": [
        "encoded_imgs = encoder.predict(x_test)\n",
        "decoded_imgs = decoder.predict(encoded_imgs)"
      ],
      "execution_count": 0,
      "outputs": []
    },
    {
      "cell_type": "code",
      "metadata": {
        "id": "hHUqTfQ618pD",
        "colab_type": "code",
        "colab": {
          "base_uri": "https://localhost:8080/",
          "height": 252
        },
        "outputId": "5b752e1e-c4f4-4155-d730-503d591367aa"
      },
      "source": [
        "import matplotlib.pyplot as plt\n",
        "\n",
        "n = 5  \n",
        "plt.figure(figsize=(20, 4))\n",
        "for i in range(n):\n",
        "    # display original\n",
        "    ax = plt.subplot(2, n, i + 1)\n",
        "    plt.imshow(x_test[i].reshape(28, 28))\n",
        "    plt.gray()\n",
        "    ax.get_xaxis().set_visible(False)\n",
        "    ax.get_yaxis().set_visible(False)\n",
        "\n",
        "    # display reconstruction\n",
        "    ax = plt.subplot(2, n, i + 1 + n)\n",
        "    plt.imshow(decoded_imgs[i].reshape(28, 28))\n",
        "    plt.gray()\n",
        "    ax.get_xaxis().set_visible(False)\n",
        "    ax.get_yaxis().set_visible(False)\n",
        "plt.show()"
      ],
      "execution_count": 23,
      "outputs": [
        {
          "output_type": "display_data",
          "data": {
            "image/png": "[encoded data removed]",
            "text/plain": [
              "<Figure size 1440x288 with 10 Axes>"
            ]
          },
          "metadata": {
            "tags": [],
            "needs_background": "light"
          }
        }
      ]
    },
    {
      "cell_type": "code",
      "metadata": {
        "id": "_gm4EOkC6Iz7",
        "colab_type": "code",
        "colab": {}
      },
      "source": [
        "from keras.layers import Input, Dense, Conv2D, MaxPooling2D, UpSampling2D\n",
        "from keras.models import Model\n",
        "from keras import backend as K\n",
        "\n",
        "input_img = Input(shape=(28, 28, 1)) \n",
        "\n",
        "x = Conv2D(16, (3, 3), activation='relu', padding='same')(input_img)\n",
        "x = MaxPooling2D((2, 2), padding='same')(x)\n",
        "x = Conv2D(8, (3, 3), activation='relu', padding='same')(x)\n",
        "x = MaxPooling2D((2, 2), padding='same')(x)\n",
        "x = Conv2D(8, (3, 3), activation='relu', padding='same')(x)\n",
        "encoded = MaxPooling2D((2, 2), padding='same')(x)\n",
        "x = Conv2D(8, (3, 3), activation='relu', padding='same')(encoded)\n",
        "x = UpSampling2D((2, 2))(x)\n",
        "x = Conv2D(8, (3, 3), activation='relu', padding='same')(x)\n",
        "x = UpSampling2D((2, 2))(x)\n",
        "x = Conv2D(16, (3, 3), activation='relu')(x)\n",
        "x = UpSampling2D((2, 2))(x)\n",
        "decoded = Conv2D(1, (3, 3), activation='sigmoid', padding='same')(x)\n",
        "\n",
        "autoencoder = Model(input_img, decoded)\n",
        "autoencoder.compile(optimizer='adam', loss='binary_crossentropy')"
      ],
      "execution_count": 0,
      "outputs": []
    },
    {
      "cell_type": "code",
      "metadata": {
        "id": "0CkWrLTu6cao",
        "colab_type": "code",
        "colab": {}
      },
      "source": [
        "(x_train, _), (x_test, _) = fashion_mnist.load_data()\n",
        "\n",
        "x_train = x_train.astype('float32') / 255.\n",
        "x_test = x_test.astype('float32') / 255.\n",
        "x_train = np.reshape(x_train, (len(x_train), 28, 28, 1)) \n",
        "x_test = np.reshape(x_test, (len(x_test), 28, 28, 1))"
      ],
      "execution_count": 0,
      "outputs": []
    },
    {
      "cell_type": "code",
      "metadata": {
        "id": "paPi7N-x6per",
        "colab_type": "code",
        "colab": {
          "base_uri": "https://localhost:8080/",
          "height": 554
        },
        "outputId": "e05769e6-9389-4247-f76b-ead6763f6ad4"
      },
      "source": [
        "autoencoder.fit(x_train, x_train,\n",
        "                epochs=15,\n",
        "                batch_size=128,\n",
        "                shuffle=True,\n",
        "                validation_data=(x_test, x_test))"
      ],
      "execution_count": 22,
      "outputs": [
        {
          "output_type": "stream",
          "text": [
            "Train on 60000 samples, validate on 10000 samples\n",
            "Epoch 1/15\n",
            "60000/60000 [==============================] - 81s 1ms/step - loss: 0.2888 - val_loss: 0.2902\n",
            "Epoch 2/15\n",
            "60000/60000 [==============================] - 81s 1ms/step - loss: 0.2878 - val_loss: 0.2895\n",
            "Epoch 3/15\n",
            "60000/60000 [==============================] - 81s 1ms/step - loss: 0.2870 - val_loss: 0.2888\n",
            "Epoch 4/15\n",
            "60000/60000 [==============================] - 81s 1ms/step - loss: 0.2862 - val_loss: 0.2883\n",
            "Epoch 5/15\n",
            "60000/60000 [==============================] - 81s 1ms/step - loss: 0.2856 - val_loss: 0.2873\n",
            "Epoch 6/15\n",
            "60000/60000 [==============================] - 81s 1ms/step - loss: 0.2850 - val_loss: 0.2870\n",
            "Epoch 7/15\n",
            "60000/60000 [==============================] - 81s 1ms/step - loss: 0.2846 - val_loss: 0.2864\n",
            "Epoch 8/15\n",
            "60000/60000 [==============================] - 86s 1ms/step - loss: 0.2841 - val_loss: 0.2862\n",
            "Epoch 9/15\n",
            "60000/60000 [==============================] - 82s 1ms/step - loss: 0.2838 - val_loss: 0.2857\n",
            "Epoch 10/15\n",
            "60000/60000 [==============================] - 81s 1ms/step - loss: 0.2833 - val_loss: 0.2852\n",
            "Epoch 11/15\n",
            "60000/60000 [==============================] - 80s 1ms/step - loss: 0.2830 - val_loss: 0.2855\n",
            "Epoch 12/15\n",
            "60000/60000 [==============================] - 81s 1ms/step - loss: 0.2827 - val_loss: 0.2846\n",
            "Epoch 13/15\n",
            "60000/60000 [==============================] - 81s 1ms/step - loss: 0.2824 - val_loss: 0.2842\n",
            "Epoch 14/15\n",
            "60000/60000 [==============================] - 81s 1ms/step - loss: 0.2822 - val_loss: 0.2839\n",
            "Epoch 15/15\n",
            "60000/60000 [==============================] - 80s 1ms/step - loss: 0.2819 - val_loss: 0.2845\n"
          ],
          "name": "stdout"
        },
        {
          "output_type": "execute_result",
          "data": {
            "text/plain": [
              "<keras.callbacks.callbacks.History at 0x7ff822ebfd68>"
            ]
          },
          "metadata": {
            "tags": []
          },
          "execution_count": 22
        }
      ]
    },
    {
      "cell_type": "code",
      "metadata": {
        "id": "YSU4tDM4UBx0",
        "colab_type": "code",
        "colab": {}
      },
      "source": [
        ""
      ],
      "execution_count": 0,
      "outputs": []
    }
  ]
}